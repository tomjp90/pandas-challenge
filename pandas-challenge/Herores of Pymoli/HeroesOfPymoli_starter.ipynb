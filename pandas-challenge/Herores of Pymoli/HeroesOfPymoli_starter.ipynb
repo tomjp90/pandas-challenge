{
 "cells": [
  {
   "cell_type": "markdown",
   "metadata": {},
   "source": [
    "### Note\n",
    "* Instructions have been included for each segment. You do not have to follow them exactly, but they are included to help you think through the steps."
   ]
  },
  {
   "cell_type": "code",
   "execution_count": 1,
   "metadata": {},
   "outputs": [
    {
     "data": {
      "text/html": [
       "<div>\n",
       "<style scoped>\n",
       "    .dataframe tbody tr th:only-of-type {\n",
       "        vertical-align: middle;\n",
       "    }\n",
       "\n",
       "    .dataframe tbody tr th {\n",
       "        vertical-align: top;\n",
       "    }\n",
       "\n",
       "    .dataframe thead th {\n",
       "        text-align: right;\n",
       "    }\n",
       "</style>\n",
       "<table border=\"1\" class=\"dataframe\">\n",
       "  <thead>\n",
       "    <tr style=\"text-align: right;\">\n",
       "      <th></th>\n",
       "      <th>Purchase ID</th>\n",
       "      <th>SN</th>\n",
       "      <th>Age</th>\n",
       "      <th>Gender</th>\n",
       "      <th>Item ID</th>\n",
       "      <th>Item Name</th>\n",
       "      <th>Price</th>\n",
       "    </tr>\n",
       "  </thead>\n",
       "  <tbody>\n",
       "    <tr>\n",
       "      <th>0</th>\n",
       "      <td>0</td>\n",
       "      <td>Lisim78</td>\n",
       "      <td>20</td>\n",
       "      <td>Male</td>\n",
       "      <td>108</td>\n",
       "      <td>Extraction, Quickblade Of Trembling Hands</td>\n",
       "      <td>3.53</td>\n",
       "    </tr>\n",
       "    <tr>\n",
       "      <th>1</th>\n",
       "      <td>1</td>\n",
       "      <td>Lisovynya38</td>\n",
       "      <td>40</td>\n",
       "      <td>Male</td>\n",
       "      <td>143</td>\n",
       "      <td>Frenzied Scimitar</td>\n",
       "      <td>1.56</td>\n",
       "    </tr>\n",
       "    <tr>\n",
       "      <th>2</th>\n",
       "      <td>2</td>\n",
       "      <td>Ithergue48</td>\n",
       "      <td>24</td>\n",
       "      <td>Male</td>\n",
       "      <td>92</td>\n",
       "      <td>Final Critic</td>\n",
       "      <td>4.88</td>\n",
       "    </tr>\n",
       "    <tr>\n",
       "      <th>3</th>\n",
       "      <td>3</td>\n",
       "      <td>Chamassasya86</td>\n",
       "      <td>24</td>\n",
       "      <td>Male</td>\n",
       "      <td>100</td>\n",
       "      <td>Blindscythe</td>\n",
       "      <td>3.27</td>\n",
       "    </tr>\n",
       "    <tr>\n",
       "      <th>4</th>\n",
       "      <td>4</td>\n",
       "      <td>Iskosia90</td>\n",
       "      <td>23</td>\n",
       "      <td>Male</td>\n",
       "      <td>131</td>\n",
       "      <td>Fury</td>\n",
       "      <td>1.44</td>\n",
       "    </tr>\n",
       "  </tbody>\n",
       "</table>\n",
       "</div>"
      ],
      "text/plain": [
       "   Purchase ID             SN  Age Gender  Item ID  \\\n",
       "0            0        Lisim78   20   Male      108   \n",
       "1            1    Lisovynya38   40   Male      143   \n",
       "2            2     Ithergue48   24   Male       92   \n",
       "3            3  Chamassasya86   24   Male      100   \n",
       "4            4      Iskosia90   23   Male      131   \n",
       "\n",
       "                                   Item Name  Price  \n",
       "0  Extraction, Quickblade Of Trembling Hands   3.53  \n",
       "1                          Frenzied Scimitar   1.56  \n",
       "2                               Final Critic   4.88  \n",
       "3                                Blindscythe   3.27  \n",
       "4                                       Fury   1.44  "
      ]
     },
     "execution_count": 1,
     "metadata": {},
     "output_type": "execute_result"
    }
   ],
   "source": [
    "# Dependencies and Setup\n",
    "import pandas as pd\n",
    "import numpy as np\n",
    "\n",
    "# File to Load (Remember to Change These)\n",
    "file_to_load = \"Resources/purchase_data.csv\"\n",
    "\n",
    "# Read Purchasing File and store into Pandas data frame\n",
    "purchase_data = pd.read_csv(file_to_load)\n",
    "purchase_data.columns\n",
    "\n",
    "purchase_data.head()"
   ]
  },
  {
   "cell_type": "markdown",
   "metadata": {},
   "source": [
    "## Player Count"
   ]
  },
  {
   "cell_type": "markdown",
   "metadata": {},
   "source": [
    "* Display the total number of players\n"
   ]
  },
  {
   "cell_type": "code",
   "execution_count": 2,
   "metadata": {},
   "outputs": [
    {
     "data": {
      "text/html": [
       "<div>\n",
       "<style scoped>\n",
       "    .dataframe tbody tr th:only-of-type {\n",
       "        vertical-align: middle;\n",
       "    }\n",
       "\n",
       "    .dataframe tbody tr th {\n",
       "        vertical-align: top;\n",
       "    }\n",
       "\n",
       "    .dataframe thead th {\n",
       "        text-align: right;\n",
       "    }\n",
       "</style>\n",
       "<table border=\"1\" class=\"dataframe\">\n",
       "  <thead>\n",
       "    <tr style=\"text-align: right;\">\n",
       "      <th></th>\n",
       "      <th>Total Players</th>\n",
       "    </tr>\n",
       "  </thead>\n",
       "  <tbody>\n",
       "    <tr>\n",
       "      <th>0</th>\n",
       "      <td>576</td>\n",
       "    </tr>\n",
       "  </tbody>\n",
       "</table>\n",
       "</div>"
      ],
      "text/plain": [
       "   Total Players\n",
       "0            576"
      ]
     },
     "execution_count": 2,
     "metadata": {},
     "output_type": "execute_result"
    }
   ],
   "source": [
    "# calculate the total players getting a series containing counts of unique players and then the length\n",
    "players_count = len(purchase_data[\"SN\"].value_counts())\n",
    "\n",
    "# define column heading and count to display result\n",
    "total_players = {\"Total Players\":[players_count]}\n",
    "\n",
    "# make into them into df\n",
    "total_players_df = pd.DataFrame(total_players)\n",
    "total_players_df"
   ]
  },
  {
   "cell_type": "markdown",
   "metadata": {},
   "source": [
    "## Purchasing Analysis (Total)"
   ]
  },
  {
   "cell_type": "markdown",
   "metadata": {},
   "source": [
    "* Run basic calculations to obtain number of unique items, average price, etc.\n",
    "\n",
    "\n",
    "* Create a summary data frame to hold the results\n",
    "\n",
    "\n",
    "* Optional: give the displayed data cleaner formatting\n",
    "\n",
    "\n",
    "* Display the summary data frame\n"
   ]
  },
  {
   "cell_type": "code",
   "execution_count": 3,
   "metadata": {
    "scrolled": true
   },
   "outputs": [
    {
     "data": {
      "text/html": [
       "<style  type=\"text/css\" >\n",
       "</style><table id=\"T_dd9de586_4024_11eb_97a3_02340c700f01\" ><thead>    <tr>        <th class=\"blank level0\" ></th>        <th class=\"col_heading level0 col0\" >Number Unique Items</th>        <th class=\"col_heading level0 col1\" >Average Price</th>        <th class=\"col_heading level0 col2\" >Number of Purchases</th>        <th class=\"col_heading level0 col3\" >Total Revenue</th>    </tr></thead><tbody>\n",
       "                <tr>\n",
       "                        <th id=\"T_dd9de586_4024_11eb_97a3_02340c700f01level0_row0\" class=\"row_heading level0 row0\" >0</th>\n",
       "                        <td id=\"T_dd9de586_4024_11eb_97a3_02340c700f01row0_col0\" class=\"data row0 col0\" >179</td>\n",
       "                        <td id=\"T_dd9de586_4024_11eb_97a3_02340c700f01row0_col1\" class=\"data row0 col1\" >$3.05</td>\n",
       "                        <td id=\"T_dd9de586_4024_11eb_97a3_02340c700f01row0_col2\" class=\"data row0 col2\" >780</td>\n",
       "                        <td id=\"T_dd9de586_4024_11eb_97a3_02340c700f01row0_col3\" class=\"data row0 col3\" >$2379.77</td>\n",
       "            </tr>\n",
       "    </tbody></table>"
      ],
      "text/plain": [
       "<pandas.io.formats.style.Styler at 0x1d9db327370>"
      ]
     },
     "execution_count": 3,
     "metadata": {},
     "output_type": "execute_result"
    }
   ],
   "source": [
    "# make array of unique Item IDs\n",
    "unique_items = purchase_data[\"Item ID\"].unique()\n",
    "\n",
    "# analyse the data \n",
    "count_unique_items = len(unique_items)\n",
    "average_price = purchase_data[\"Price\"].mean()\n",
    "number_purchases = purchase_data[\"Purchase ID\"].count()\n",
    "total_revenue = purchase_data[\"Price\"].sum()\n",
    "\n",
    "# make summary dataframe to display result\n",
    "summary_df = pd.DataFrame({\"Number Unique Items\":[count_unique_items], \n",
    "                           \"Average Price\":[average_price], \n",
    "                           \"Number of Purchases\":[number_purchases], \n",
    "                           \"Total Revenue\":[total_revenue]\n",
    "                          })\n",
    "\n",
    "# format data frame results\n",
    "summary_df = summary_df.style.format({\"Average Price\":\"${:.2f}\",  \n",
    "                                       \"Total Revenue\":\"${:.2f}\"\n",
    "                                     })\n",
    "summary_df"
   ]
  },
  {
   "cell_type": "markdown",
   "metadata": {},
   "source": [
    "## Gender Demographics"
   ]
  },
  {
   "cell_type": "markdown",
   "metadata": {},
   "source": [
    "* Percentage and Count of Male Players\n",
    "\n",
    "\n",
    "* Percentage and Count of Female Players\n",
    "\n",
    "\n",
    "* Percentage and Count of Other / Non-Disclosed\n",
    "\n",
    "\n"
   ]
  },
  {
   "cell_type": "code",
   "execution_count": 4,
   "metadata": {},
   "outputs": [
    {
     "data": {
      "text/html": [
       "<style  type=\"text/css\" >\n",
       "</style><table id=\"T_ddf0e0df_4024_11eb_b620_02340c700f01\" ><thead>    <tr>        <th class=\"blank level0\" ></th>        <th class=\"col_heading level0 col0\" >Total Count</th>        <th class=\"col_heading level0 col1\" >Percentage of Players</th>    </tr>    <tr>        <th class=\"index_name level0\" >Gender</th>        <th class=\"blank\" ></th>        <th class=\"blank\" ></th>    </tr></thead><tbody>\n",
       "                <tr>\n",
       "                        <th id=\"T_ddf0e0df_4024_11eb_b620_02340c700f01level0_row0\" class=\"row_heading level0 row0\" >Female</th>\n",
       "                        <td id=\"T_ddf0e0df_4024_11eb_b620_02340c700f01row0_col0\" class=\"data row0 col0\" >81</td>\n",
       "                        <td id=\"T_ddf0e0df_4024_11eb_b620_02340c700f01row0_col1\" class=\"data row0 col1\" >14.06%</td>\n",
       "            </tr>\n",
       "            <tr>\n",
       "                        <th id=\"T_ddf0e0df_4024_11eb_b620_02340c700f01level0_row1\" class=\"row_heading level0 row1\" >Male</th>\n",
       "                        <td id=\"T_ddf0e0df_4024_11eb_b620_02340c700f01row1_col0\" class=\"data row1 col0\" >484</td>\n",
       "                        <td id=\"T_ddf0e0df_4024_11eb_b620_02340c700f01row1_col1\" class=\"data row1 col1\" >84.03%</td>\n",
       "            </tr>\n",
       "            <tr>\n",
       "                        <th id=\"T_ddf0e0df_4024_11eb_b620_02340c700f01level0_row2\" class=\"row_heading level0 row2\" >Other / Non-Disclosed</th>\n",
       "                        <td id=\"T_ddf0e0df_4024_11eb_b620_02340c700f01row2_col0\" class=\"data row2 col0\" >11</td>\n",
       "                        <td id=\"T_ddf0e0df_4024_11eb_b620_02340c700f01row2_col1\" class=\"data row2 col1\" >1.91%</td>\n",
       "            </tr>\n",
       "    </tbody></table>"
      ],
      "text/plain": [
       "<pandas.io.formats.style.Styler at 0x1d9d906e490>"
      ]
     },
     "execution_count": 4,
     "metadata": {},
     "output_type": "execute_result"
    }
   ],
   "source": [
    "# Goup data by Gender\n",
    "gender_group = purchase_data.groupby(\"Gender\")\n",
    "\n",
    "# analyse the grouped data \n",
    "gender_counts = gender_group.nunique()[\"SN\"]\n",
    "gender_percentage = gender_counts/players_count\n",
    "\n",
    "# create a data frame to display results and rename the columns\n",
    "gender_summary = pd.merge(gender_counts, gender_percentage, how='outer', on='Gender')\n",
    "gender_summary = gender_summary.rename(columns={\"SN_x\":\"Total Count\",\n",
    "                                                \"SN_y\":\"Percentage of Players\"\n",
    "                                                               })\n",
    "# format the results\n",
    "gender_summary = gender_summary.style.format({\"Percentage of Players\": \"{:.2%}\"\n",
    "                                                             })\n",
    "gender_summary"
   ]
  },
  {
   "cell_type": "markdown",
   "metadata": {},
   "source": [
    "\n",
    "## Purchasing Analysis (Gender)"
   ]
  },
  {
   "cell_type": "markdown",
   "metadata": {},
   "source": [
    "* Run basic calculations to obtain purchase count, avg. purchase price, avg. purchase total per person etc. by gender\n",
    "\n",
    "\n",
    "\n",
    "\n",
    "* Create a summary data frame to hold the results\n",
    "\n",
    "\n",
    "* Optional: give the displayed data cleaner formatting\n",
    "\n",
    "\n",
    "* Display the summary data frame"
   ]
  },
  {
   "cell_type": "code",
   "execution_count": 5,
   "metadata": {},
   "outputs": [
    {
     "data": {
      "text/html": [
       "<style  type=\"text/css\" >\n",
       "</style><table id=\"T_de6d8b72_4024_11eb_b4ae_02340c700f01\" ><thead>    <tr>        <th class=\"blank level0\" ></th>        <th class=\"col_heading level0 col0\" >Purchase Count</th>        <th class=\"col_heading level0 col1\" >Average Purchase Price</th>        <th class=\"col_heading level0 col2\" >Average Purchase Value</th>        <th class=\"col_heading level0 col3\" >Avg Total Purchase per Person</th>    </tr>    <tr>        <th class=\"index_name level0\" >Gender</th>        <th class=\"blank\" ></th>        <th class=\"blank\" ></th>        <th class=\"blank\" ></th>        <th class=\"blank\" ></th>    </tr></thead><tbody>\n",
       "                <tr>\n",
       "                        <th id=\"T_de6d8b72_4024_11eb_b4ae_02340c700f01level0_row0\" class=\"row_heading level0 row0\" >Female</th>\n",
       "                        <td id=\"T_de6d8b72_4024_11eb_b4ae_02340c700f01row0_col0\" class=\"data row0 col0\" >113</td>\n",
       "                        <td id=\"T_de6d8b72_4024_11eb_b4ae_02340c700f01row0_col1\" class=\"data row0 col1\" >$3.20</td>\n",
       "                        <td id=\"T_de6d8b72_4024_11eb_b4ae_02340c700f01row0_col2\" class=\"data row0 col2\" >$361.94</td>\n",
       "                        <td id=\"T_de6d8b72_4024_11eb_b4ae_02340c700f01row0_col3\" class=\"data row0 col3\" >$4.47</td>\n",
       "            </tr>\n",
       "            <tr>\n",
       "                        <th id=\"T_de6d8b72_4024_11eb_b4ae_02340c700f01level0_row1\" class=\"row_heading level0 row1\" >Male</th>\n",
       "                        <td id=\"T_de6d8b72_4024_11eb_b4ae_02340c700f01row1_col0\" class=\"data row1 col0\" >652</td>\n",
       "                        <td id=\"T_de6d8b72_4024_11eb_b4ae_02340c700f01row1_col1\" class=\"data row1 col1\" >$3.02</td>\n",
       "                        <td id=\"T_de6d8b72_4024_11eb_b4ae_02340c700f01row1_col2\" class=\"data row1 col2\" >$1967.64</td>\n",
       "                        <td id=\"T_de6d8b72_4024_11eb_b4ae_02340c700f01row1_col3\" class=\"data row1 col3\" >$4.07</td>\n",
       "            </tr>\n",
       "            <tr>\n",
       "                        <th id=\"T_de6d8b72_4024_11eb_b4ae_02340c700f01level0_row2\" class=\"row_heading level0 row2\" >Other / Non-Disclosed</th>\n",
       "                        <td id=\"T_de6d8b72_4024_11eb_b4ae_02340c700f01row2_col0\" class=\"data row2 col0\" >15</td>\n",
       "                        <td id=\"T_de6d8b72_4024_11eb_b4ae_02340c700f01row2_col1\" class=\"data row2 col1\" >$3.35</td>\n",
       "                        <td id=\"T_de6d8b72_4024_11eb_b4ae_02340c700f01row2_col2\" class=\"data row2 col2\" >$50.19</td>\n",
       "                        <td id=\"T_de6d8b72_4024_11eb_b4ae_02340c700f01row2_col3\" class=\"data row2 col3\" >$4.56</td>\n",
       "            </tr>\n",
       "    </tbody></table>"
      ],
      "text/plain": [
       "<pandas.io.formats.style.Styler at 0x1d9db2f88b0>"
      ]
     },
     "execution_count": 5,
     "metadata": {},
     "output_type": "execute_result"
    }
   ],
   "source": [
    "# Goup data by Gender\n",
    "gender_group = purchase_data.groupby(\"Gender\")\n",
    "\n",
    "# analyse gender grouped\n",
    "purchase_count = gender_group[\"Purchase ID\"].count()\n",
    "average_price = gender_group[\"Price\"].mean()\n",
    "average_sum = gender_group[\"Price\"].sum()\n",
    "average_person = average_sum / gender_counts\n",
    "\n",
    "# Create analysis data frame with results\n",
    "purchase_analysis_df = pd.DataFrame({\"Purchase Count\": purchase_count, \n",
    "                                    \"Average Purchase Price\": average_price,\n",
    "                                    \"Average Purchase Value\": average_sum,\n",
    "                                    \"Avg Total Purchase per Person\": average_person\n",
    "                                   })\n",
    "#format analysis\n",
    "purchase_analysis_df = purchase_analysis_df.style.format({\"Average Purchase Price\":\"${:.2f}\",\n",
    "                                                            \"Average Purchase Value\":\"${:.2f}\",\n",
    "                                                            \"Avg Total Purchase per Person\":\"${:.2f}\"\n",
    "                                                             })\n",
    "purchase_analysis_df\n"
   ]
  },
  {
   "cell_type": "markdown",
   "metadata": {},
   "source": [
    "## Age Demographics"
   ]
  },
  {
   "cell_type": "markdown",
   "metadata": {},
   "source": [
    "* Establish bins for ages\n",
    "\n",
    "\n",
    "* Categorize the existing players using the age bins. Hint: use pd.cut()\n",
    "\n",
    "\n",
    "* Calculate the numbers and percentages by age group\n",
    "\n",
    "\n",
    "* Create a summary data frame to hold the results\n",
    "\n",
    "\n",
    "* Optional: round the percentage column to two decimal points\n",
    "\n",
    "\n",
    "* Display Age Demographics Table\n"
   ]
  },
  {
   "cell_type": "code",
   "execution_count": 6,
   "metadata": {},
   "outputs": [
    {
     "data": {
      "text/html": [
       "<style  type=\"text/css\" >\n",
       "</style><table id=\"T_dee972bc_4024_11eb_b490_02340c700f01\" ><thead>    <tr>        <th class=\"blank level0\" ></th>        <th class=\"col_heading level0 col0\" >Total Count</th>        <th class=\"col_heading level0 col1\" >Percentage of Players</th>    </tr>    <tr>        <th class=\"index_name level0\" >Age Group</th>        <th class=\"blank\" ></th>        <th class=\"blank\" ></th>    </tr></thead><tbody>\n",
       "                <tr>\n",
       "                        <th id=\"T_dee972bc_4024_11eb_b490_02340c700f01level0_row0\" class=\"row_heading level0 row0\" ><10</th>\n",
       "                        <td id=\"T_dee972bc_4024_11eb_b490_02340c700f01row0_col0\" class=\"data row0 col0\" >17</td>\n",
       "                        <td id=\"T_dee972bc_4024_11eb_b490_02340c700f01row0_col1\" class=\"data row0 col1\" >2.95%</td>\n",
       "            </tr>\n",
       "            <tr>\n",
       "                        <th id=\"T_dee972bc_4024_11eb_b490_02340c700f01level0_row1\" class=\"row_heading level0 row1\" >10-14</th>\n",
       "                        <td id=\"T_dee972bc_4024_11eb_b490_02340c700f01row1_col0\" class=\"data row1 col0\" >22</td>\n",
       "                        <td id=\"T_dee972bc_4024_11eb_b490_02340c700f01row1_col1\" class=\"data row1 col1\" >3.82%</td>\n",
       "            </tr>\n",
       "            <tr>\n",
       "                        <th id=\"T_dee972bc_4024_11eb_b490_02340c700f01level0_row2\" class=\"row_heading level0 row2\" >15-19</th>\n",
       "                        <td id=\"T_dee972bc_4024_11eb_b490_02340c700f01row2_col0\" class=\"data row2 col0\" >107</td>\n",
       "                        <td id=\"T_dee972bc_4024_11eb_b490_02340c700f01row2_col1\" class=\"data row2 col1\" >18.58%</td>\n",
       "            </tr>\n",
       "            <tr>\n",
       "                        <th id=\"T_dee972bc_4024_11eb_b490_02340c700f01level0_row3\" class=\"row_heading level0 row3\" >20-24</th>\n",
       "                        <td id=\"T_dee972bc_4024_11eb_b490_02340c700f01row3_col0\" class=\"data row3 col0\" >258</td>\n",
       "                        <td id=\"T_dee972bc_4024_11eb_b490_02340c700f01row3_col1\" class=\"data row3 col1\" >44.79%</td>\n",
       "            </tr>\n",
       "            <tr>\n",
       "                        <th id=\"T_dee972bc_4024_11eb_b490_02340c700f01level0_row4\" class=\"row_heading level0 row4\" >25-29</th>\n",
       "                        <td id=\"T_dee972bc_4024_11eb_b490_02340c700f01row4_col0\" class=\"data row4 col0\" >77</td>\n",
       "                        <td id=\"T_dee972bc_4024_11eb_b490_02340c700f01row4_col1\" class=\"data row4 col1\" >13.37%</td>\n",
       "            </tr>\n",
       "            <tr>\n",
       "                        <th id=\"T_dee972bc_4024_11eb_b490_02340c700f01level0_row5\" class=\"row_heading level0 row5\" >30-34</th>\n",
       "                        <td id=\"T_dee972bc_4024_11eb_b490_02340c700f01row5_col0\" class=\"data row5 col0\" >52</td>\n",
       "                        <td id=\"T_dee972bc_4024_11eb_b490_02340c700f01row5_col1\" class=\"data row5 col1\" >9.03%</td>\n",
       "            </tr>\n",
       "            <tr>\n",
       "                        <th id=\"T_dee972bc_4024_11eb_b490_02340c700f01level0_row6\" class=\"row_heading level0 row6\" >35-39</th>\n",
       "                        <td id=\"T_dee972bc_4024_11eb_b490_02340c700f01row6_col0\" class=\"data row6 col0\" >31</td>\n",
       "                        <td id=\"T_dee972bc_4024_11eb_b490_02340c700f01row6_col1\" class=\"data row6 col1\" >5.38%</td>\n",
       "            </tr>\n",
       "            <tr>\n",
       "                        <th id=\"T_dee972bc_4024_11eb_b490_02340c700f01level0_row7\" class=\"row_heading level0 row7\" >40+</th>\n",
       "                        <td id=\"T_dee972bc_4024_11eb_b490_02340c700f01row7_col0\" class=\"data row7 col0\" >12</td>\n",
       "                        <td id=\"T_dee972bc_4024_11eb_b490_02340c700f01row7_col1\" class=\"data row7 col1\" >2.08%</td>\n",
       "            </tr>\n",
       "    </tbody></table>"
      ],
      "text/plain": [
       "<pandas.io.formats.style.Styler at 0x1d9dc2f9100>"
      ]
     },
     "execution_count": 6,
     "metadata": {},
     "output_type": "execute_result"
    }
   ],
   "source": [
    "# set age bins and labels\n",
    "age_bins = [0, 9.90, 14.90, 19.90, 24.90, 29.90, 34.90, 39.90, 99999]\n",
    "age_group = [\"<10\", \"10-14\", \"15-19\", \"20-24\", \"25-29\", \"30-34\", \"35-39\", \"40+\"]\n",
    "\n",
    "purchase_data[\"Age Group\"] = pd.cut(purchase_data[\"Age\"], age_bins, labels=age_group)\n",
    "\n",
    "# analyse age demographics by binned ages\n",
    "age_grouped = purchase_data.groupby(\"Age Group\")\n",
    "sum_agegrouped = age_grouped[\"SN\"].nunique()\n",
    "age_percentage = sum_agegrouped / players_count * 100\n",
    "\n",
    "# Create data frame with results\n",
    "age_analysis = pd.DataFrame({\"Total Count\": sum_agegrouped, \n",
    "                             \"Percentage of Players\": age_percentage\n",
    "                            })\n",
    "\n",
    "#format analysis\n",
    "age_analysis = age_analysis.style.format({\"Percentage of Players\": \"{:,.2f}%\"})\n",
    "age_analysis\n"
   ]
  },
  {
   "cell_type": "markdown",
   "metadata": {},
   "source": [
    "## Purchasing Analysis (Age)"
   ]
  },
  {
   "cell_type": "markdown",
   "metadata": {},
   "source": [
    "* Bin the purchase_data data frame by age\n",
    "\n",
    "\n",
    "* Run basic calculations to obtain purchase count, avg. purchase price, avg. purchase total per person etc. in the table below\n",
    "\n",
    "\n",
    "* Create a summary data frame to hold the results\n",
    "\n",
    "\n",
    "* Optional: give the displayed data cleaner formatting\n",
    "\n",
    "\n",
    "* Display the summary data frame"
   ]
  },
  {
   "cell_type": "code",
   "execution_count": 7,
   "metadata": {},
   "outputs": [
    {
     "data": {
      "text/html": [
       "<style  type=\"text/css\" >\n",
       "</style><table id=\"T_df5a0f63_4024_11eb_8083_02340c700f01\" ><thead>    <tr>        <th class=\"blank level0\" ></th>        <th class=\"col_heading level0 col0\" >Purchase Count</th>        <th class=\"col_heading level0 col1\" >Average Purchase Price</th>        <th class=\"col_heading level0 col2\" >Total Purchase Value</th>        <th class=\"col_heading level0 col3\" >Average Purchase Total per Person</th>    </tr>    <tr>        <th class=\"index_name level0\" >Age Group</th>        <th class=\"blank\" ></th>        <th class=\"blank\" ></th>        <th class=\"blank\" ></th>        <th class=\"blank\" ></th>    </tr></thead><tbody>\n",
       "                <tr>\n",
       "                        <th id=\"T_df5a0f63_4024_11eb_8083_02340c700f01level0_row0\" class=\"row_heading level0 row0\" ><10</th>\n",
       "                        <td id=\"T_df5a0f63_4024_11eb_8083_02340c700f01row0_col0\" class=\"data row0 col0\" >23</td>\n",
       "                        <td id=\"T_df5a0f63_4024_11eb_8083_02340c700f01row0_col1\" class=\"data row0 col1\" >$3.35</td>\n",
       "                        <td id=\"T_df5a0f63_4024_11eb_8083_02340c700f01row0_col2\" class=\"data row0 col2\" >$77.13</td>\n",
       "                        <td id=\"T_df5a0f63_4024_11eb_8083_02340c700f01row0_col3\" class=\"data row0 col3\" >$4.54</td>\n",
       "            </tr>\n",
       "            <tr>\n",
       "                        <th id=\"T_df5a0f63_4024_11eb_8083_02340c700f01level0_row1\" class=\"row_heading level0 row1\" >10-14</th>\n",
       "                        <td id=\"T_df5a0f63_4024_11eb_8083_02340c700f01row1_col0\" class=\"data row1 col0\" >28</td>\n",
       "                        <td id=\"T_df5a0f63_4024_11eb_8083_02340c700f01row1_col1\" class=\"data row1 col1\" >$2.96</td>\n",
       "                        <td id=\"T_df5a0f63_4024_11eb_8083_02340c700f01row1_col2\" class=\"data row1 col2\" >$82.78</td>\n",
       "                        <td id=\"T_df5a0f63_4024_11eb_8083_02340c700f01row1_col3\" class=\"data row1 col3\" >$3.76</td>\n",
       "            </tr>\n",
       "            <tr>\n",
       "                        <th id=\"T_df5a0f63_4024_11eb_8083_02340c700f01level0_row2\" class=\"row_heading level0 row2\" >15-19</th>\n",
       "                        <td id=\"T_df5a0f63_4024_11eb_8083_02340c700f01row2_col0\" class=\"data row2 col0\" >136</td>\n",
       "                        <td id=\"T_df5a0f63_4024_11eb_8083_02340c700f01row2_col1\" class=\"data row2 col1\" >$3.04</td>\n",
       "                        <td id=\"T_df5a0f63_4024_11eb_8083_02340c700f01row2_col2\" class=\"data row2 col2\" >$412.89</td>\n",
       "                        <td id=\"T_df5a0f63_4024_11eb_8083_02340c700f01row2_col3\" class=\"data row2 col3\" >$3.86</td>\n",
       "            </tr>\n",
       "            <tr>\n",
       "                        <th id=\"T_df5a0f63_4024_11eb_8083_02340c700f01level0_row3\" class=\"row_heading level0 row3\" >20-24</th>\n",
       "                        <td id=\"T_df5a0f63_4024_11eb_8083_02340c700f01row3_col0\" class=\"data row3 col0\" >365</td>\n",
       "                        <td id=\"T_df5a0f63_4024_11eb_8083_02340c700f01row3_col1\" class=\"data row3 col1\" >$3.05</td>\n",
       "                        <td id=\"T_df5a0f63_4024_11eb_8083_02340c700f01row3_col2\" class=\"data row3 col2\" >$1114.06</td>\n",
       "                        <td id=\"T_df5a0f63_4024_11eb_8083_02340c700f01row3_col3\" class=\"data row3 col3\" >$4.32</td>\n",
       "            </tr>\n",
       "            <tr>\n",
       "                        <th id=\"T_df5a0f63_4024_11eb_8083_02340c700f01level0_row4\" class=\"row_heading level0 row4\" >25-29</th>\n",
       "                        <td id=\"T_df5a0f63_4024_11eb_8083_02340c700f01row4_col0\" class=\"data row4 col0\" >101</td>\n",
       "                        <td id=\"T_df5a0f63_4024_11eb_8083_02340c700f01row4_col1\" class=\"data row4 col1\" >$2.90</td>\n",
       "                        <td id=\"T_df5a0f63_4024_11eb_8083_02340c700f01row4_col2\" class=\"data row4 col2\" >$293.00</td>\n",
       "                        <td id=\"T_df5a0f63_4024_11eb_8083_02340c700f01row4_col3\" class=\"data row4 col3\" >$3.81</td>\n",
       "            </tr>\n",
       "            <tr>\n",
       "                        <th id=\"T_df5a0f63_4024_11eb_8083_02340c700f01level0_row5\" class=\"row_heading level0 row5\" >30-34</th>\n",
       "                        <td id=\"T_df5a0f63_4024_11eb_8083_02340c700f01row5_col0\" class=\"data row5 col0\" >73</td>\n",
       "                        <td id=\"T_df5a0f63_4024_11eb_8083_02340c700f01row5_col1\" class=\"data row5 col1\" >$2.93</td>\n",
       "                        <td id=\"T_df5a0f63_4024_11eb_8083_02340c700f01row5_col2\" class=\"data row5 col2\" >$214.00</td>\n",
       "                        <td id=\"T_df5a0f63_4024_11eb_8083_02340c700f01row5_col3\" class=\"data row5 col3\" >$4.12</td>\n",
       "            </tr>\n",
       "            <tr>\n",
       "                        <th id=\"T_df5a0f63_4024_11eb_8083_02340c700f01level0_row6\" class=\"row_heading level0 row6\" >35-39</th>\n",
       "                        <td id=\"T_df5a0f63_4024_11eb_8083_02340c700f01row6_col0\" class=\"data row6 col0\" >41</td>\n",
       "                        <td id=\"T_df5a0f63_4024_11eb_8083_02340c700f01row6_col1\" class=\"data row6 col1\" >$3.60</td>\n",
       "                        <td id=\"T_df5a0f63_4024_11eb_8083_02340c700f01row6_col2\" class=\"data row6 col2\" >$147.67</td>\n",
       "                        <td id=\"T_df5a0f63_4024_11eb_8083_02340c700f01row6_col3\" class=\"data row6 col3\" >$4.76</td>\n",
       "            </tr>\n",
       "            <tr>\n",
       "                        <th id=\"T_df5a0f63_4024_11eb_8083_02340c700f01level0_row7\" class=\"row_heading level0 row7\" >40+</th>\n",
       "                        <td id=\"T_df5a0f63_4024_11eb_8083_02340c700f01row7_col0\" class=\"data row7 col0\" >13</td>\n",
       "                        <td id=\"T_df5a0f63_4024_11eb_8083_02340c700f01row7_col1\" class=\"data row7 col1\" >$2.94</td>\n",
       "                        <td id=\"T_df5a0f63_4024_11eb_8083_02340c700f01row7_col2\" class=\"data row7 col2\" >$38.24</td>\n",
       "                        <td id=\"T_df5a0f63_4024_11eb_8083_02340c700f01row7_col3\" class=\"data row7 col3\" >$3.19</td>\n",
       "            </tr>\n",
       "    </tbody></table>"
      ],
      "text/plain": [
       "<pandas.io.formats.style.Styler at 0x1d9d906e400>"
      ]
     },
     "execution_count": 7,
     "metadata": {},
     "output_type": "execute_result"
    }
   ],
   "source": [
    "# # set age bins and labels\n",
    "age_bins = [0, 9.90, 14.90, 19.90, 24.90, 29.90, 34.90, 39.90, 99999]\n",
    "age_group = [\"<10\", \"10-14\", \"15-19\", \"20-24\", \"25-29\", \"30-34\", \"35-39\", \"40+\"]\n",
    "\n",
    "purchase_data[\"Age Group\"] = pd.cut(purchase_data[\"Age\"], age_bins, labels=age_group)\n",
    "\n",
    "#group data by age group by binned ages\n",
    "age_grouped = purchase_data.groupby(\"Age Group\")\n",
    "purchase_age = age_grouped[\"Purchase ID\"].count()\n",
    "average_agegrouped = age_grouped[\"Price\"].mean()\n",
    "age_purchase = age_grouped[\"Price\"].sum()\n",
    "avg_byage = age_purchase/sum_agegrouped\n",
    "\n",
    "# Create data frame to display results\n",
    "purchaseage_summary = pd.DataFrame({\"Purchase Count\": purchase_age,\n",
    "                                \"Average Purchase Price\": average_agegrouped,\n",
    "                                \"Total Purchase Value\": age_purchase,\n",
    "                                \"Average Purchase Total per Person\": avg_byage\n",
    "                            })\n",
    "\n",
    "#format results in data frame\n",
    "purchaseage_summary = purchaseage_summary.style.format({\"Average Purchase Price\": \"${:.2f}\",\n",
    "                                                         \"Total Purchase Value\":\"${:.2f}\",\n",
    "                                                         \"Average Purchase Total per Person\": \"${:.2f}\"\n",
    "                                         })\n",
    "purchaseage_summary"
   ]
  },
  {
   "cell_type": "markdown",
   "metadata": {},
   "source": [
    "## Top Spenders"
   ]
  },
  {
   "cell_type": "markdown",
   "metadata": {},
   "source": [
    "* Run basic calculations to obtain the results in the table below\n",
    "\n",
    "\n",
    "* Create a summary data frame to hold the results\n",
    "\n",
    "\n",
    "* Sort the total purchase value column in descending order\n",
    "\n",
    "\n",
    "* Optional: give the displayed data cleaner formatting\n",
    "\n",
    "\n",
    "* Display a preview of the summary data frame\n",
    "\n"
   ]
  },
  {
   "cell_type": "code",
   "execution_count": 8,
   "metadata": {},
   "outputs": [
    {
     "data": {
      "text/html": [
       "<style  type=\"text/css\" >\n",
       "</style><table id=\"T_dfcad1ab_4024_11eb_8d8a_02340c700f01\" ><thead>    <tr>        <th class=\"blank level0\" ></th>        <th class=\"col_heading level0 col0\" >Purchase Count</th>        <th class=\"col_heading level0 col1\" >Average Purchase Price</th>        <th class=\"col_heading level0 col2\" >Total Purchase Value</th>    </tr>    <tr>        <th class=\"index_name level0\" >SN</th>        <th class=\"blank\" ></th>        <th class=\"blank\" ></th>        <th class=\"blank\" ></th>    </tr></thead><tbody>\n",
       "                <tr>\n",
       "                        <th id=\"T_dfcad1ab_4024_11eb_8d8a_02340c700f01level0_row0\" class=\"row_heading level0 row0\" >Lisosia93</th>\n",
       "                        <td id=\"T_dfcad1ab_4024_11eb_8d8a_02340c700f01row0_col0\" class=\"data row0 col0\" >5</td>\n",
       "                        <td id=\"T_dfcad1ab_4024_11eb_8d8a_02340c700f01row0_col1\" class=\"data row0 col1\" >$3.79</td>\n",
       "                        <td id=\"T_dfcad1ab_4024_11eb_8d8a_02340c700f01row0_col2\" class=\"data row0 col2\" >$18.96</td>\n",
       "            </tr>\n",
       "            <tr>\n",
       "                        <th id=\"T_dfcad1ab_4024_11eb_8d8a_02340c700f01level0_row1\" class=\"row_heading level0 row1\" >Idastidru52</th>\n",
       "                        <td id=\"T_dfcad1ab_4024_11eb_8d8a_02340c700f01row1_col0\" class=\"data row1 col0\" >4</td>\n",
       "                        <td id=\"T_dfcad1ab_4024_11eb_8d8a_02340c700f01row1_col1\" class=\"data row1 col1\" >$3.86</td>\n",
       "                        <td id=\"T_dfcad1ab_4024_11eb_8d8a_02340c700f01row1_col2\" class=\"data row1 col2\" >$15.45</td>\n",
       "            </tr>\n",
       "            <tr>\n",
       "                        <th id=\"T_dfcad1ab_4024_11eb_8d8a_02340c700f01level0_row2\" class=\"row_heading level0 row2\" >Chamjask73</th>\n",
       "                        <td id=\"T_dfcad1ab_4024_11eb_8d8a_02340c700f01row2_col0\" class=\"data row2 col0\" >3</td>\n",
       "                        <td id=\"T_dfcad1ab_4024_11eb_8d8a_02340c700f01row2_col1\" class=\"data row2 col1\" >$4.61</td>\n",
       "                        <td id=\"T_dfcad1ab_4024_11eb_8d8a_02340c700f01row2_col2\" class=\"data row2 col2\" >$13.83</td>\n",
       "            </tr>\n",
       "            <tr>\n",
       "                        <th id=\"T_dfcad1ab_4024_11eb_8d8a_02340c700f01level0_row3\" class=\"row_heading level0 row3\" >Iral74</th>\n",
       "                        <td id=\"T_dfcad1ab_4024_11eb_8d8a_02340c700f01row3_col0\" class=\"data row3 col0\" >4</td>\n",
       "                        <td id=\"T_dfcad1ab_4024_11eb_8d8a_02340c700f01row3_col1\" class=\"data row3 col1\" >$3.40</td>\n",
       "                        <td id=\"T_dfcad1ab_4024_11eb_8d8a_02340c700f01row3_col2\" class=\"data row3 col2\" >$13.62</td>\n",
       "            </tr>\n",
       "            <tr>\n",
       "                        <th id=\"T_dfcad1ab_4024_11eb_8d8a_02340c700f01level0_row4\" class=\"row_heading level0 row4\" >Iskadarya95</th>\n",
       "                        <td id=\"T_dfcad1ab_4024_11eb_8d8a_02340c700f01row4_col0\" class=\"data row4 col0\" >3</td>\n",
       "                        <td id=\"T_dfcad1ab_4024_11eb_8d8a_02340c700f01row4_col1\" class=\"data row4 col1\" >$4.37</td>\n",
       "                        <td id=\"T_dfcad1ab_4024_11eb_8d8a_02340c700f01row4_col2\" class=\"data row4 col2\" >$13.10</td>\n",
       "            </tr>\n",
       "    </tbody></table>"
      ],
      "text/plain": [
       "<pandas.io.formats.style.Styler at 0x1d9dc34b190>"
      ]
     },
     "execution_count": 8,
     "metadata": {},
     "output_type": "execute_result"
    }
   ],
   "source": [
    "# group data by SN \n",
    "SN_grouped = purchase_data.groupby('SN')\n",
    "\n",
    "# analyse data by the grouped data\n",
    "count_SN = SN_grouped[\"Price\"].count()\n",
    "uniquecount_SN = SN_grouped[\"Price\"].sum()\n",
    "averageprice_SN = SN_grouped[\"Price\"].mean()\n",
    "\n",
    "# create data frame with results\n",
    "topspenders_summary = pd.DataFrame({\"Purchase Count\": count_SN,\n",
    "                                    \"Average Purchase Price\": averageprice_SN,\n",
    "                                    \"Total Purchase Value\": uniquecount_SN\n",
    "                                   })\n",
    "\n",
    "# sort Total Purchase Value from highest to lowest \n",
    "topspenders_summary = topspenders_summary.sort_values(by=[\"Total Purchase Value\"], ascending=False).head()\n",
    "\n",
    "# format results in data frame\n",
    "topspenders_summary = topspenders_summary.style.format({\"Average Purchase Price\": \"${:.2f}\",\n",
    "                                                        \"Total Purchase Value\": \"${:.2f}\"\n",
    "                                                       })\n",
    "topspenders_summary"
   ]
  },
  {
   "cell_type": "markdown",
   "metadata": {},
   "source": [
    "## Most Popular Items"
   ]
  },
  {
   "cell_type": "markdown",
   "metadata": {},
   "source": [
    "* Retrieve the Item ID, Item Name, and Item Price columns\n",
    "\n",
    "\n",
    "* Group by Item ID and Item Name. Perform calculations to obtain purchase count, item price, and total purchase value\n",
    "\n",
    "\n",
    "* Create a summary data frame to hold the results\n",
    "\n",
    "\n",
    "* Sort the purchase count column in descending order\n",
    "\n",
    "\n",
    "* Optional: give the displayed data cleaner formatting\n",
    "\n",
    "\n",
    "* Display a preview of the summary data frame\n",
    "\n"
   ]
  },
  {
   "cell_type": "code",
   "execution_count": 9,
   "metadata": {
    "scrolled": true
   },
   "outputs": [
    {
     "data": {
      "text/html": [
       "<style  type=\"text/css\" >\n",
       "</style><table id=\"T_e03b6fcf_4024_11eb_8a7a_02340c700f01\" ><thead>    <tr>        <th class=\"blank\" ></th>        <th class=\"blank level0\" ></th>        <th class=\"col_heading level0 col0\" >Purchase Count</th>        <th class=\"col_heading level0 col1\" >Item Price</th>        <th class=\"col_heading level0 col2\" >Total Purchase Value</th>    </tr>    <tr>        <th class=\"index_name level0\" >Item ID</th>        <th class=\"index_name level1\" >Item Name</th>        <th class=\"blank\" ></th>        <th class=\"blank\" ></th>        <th class=\"blank\" ></th>    </tr></thead><tbody>\n",
       "                <tr>\n",
       "                        <th id=\"T_e03b6fcf_4024_11eb_8a7a_02340c700f01level0_row0\" class=\"row_heading level0 row0\" >92</th>\n",
       "                        <th id=\"T_e03b6fcf_4024_11eb_8a7a_02340c700f01level1_row0\" class=\"row_heading level1 row0\" >Final Critic</th>\n",
       "                        <td id=\"T_e03b6fcf_4024_11eb_8a7a_02340c700f01row0_col0\" class=\"data row0 col0\" >13</td>\n",
       "                        <td id=\"T_e03b6fcf_4024_11eb_8a7a_02340c700f01row0_col1\" class=\"data row0 col1\" >$4.61</td>\n",
       "                        <td id=\"T_e03b6fcf_4024_11eb_8a7a_02340c700f01row0_col2\" class=\"data row0 col2\" >$59.99</td>\n",
       "            </tr>\n",
       "            <tr>\n",
       "                        <th id=\"T_e03b6fcf_4024_11eb_8a7a_02340c700f01level0_row1\" class=\"row_heading level0 row1\" >178</th>\n",
       "                        <th id=\"T_e03b6fcf_4024_11eb_8a7a_02340c700f01level1_row1\" class=\"row_heading level1 row1\" >Oathbreaker, Last Hope of the Breaking Storm</th>\n",
       "                        <td id=\"T_e03b6fcf_4024_11eb_8a7a_02340c700f01row1_col0\" class=\"data row1 col0\" >12</td>\n",
       "                        <td id=\"T_e03b6fcf_4024_11eb_8a7a_02340c700f01row1_col1\" class=\"data row1 col1\" >$4.23</td>\n",
       "                        <td id=\"T_e03b6fcf_4024_11eb_8a7a_02340c700f01row1_col2\" class=\"data row1 col2\" >$50.76</td>\n",
       "            </tr>\n",
       "            <tr>\n",
       "                        <th id=\"T_e03b6fcf_4024_11eb_8a7a_02340c700f01level0_row2\" class=\"row_heading level0 row2\" >82</th>\n",
       "                        <th id=\"T_e03b6fcf_4024_11eb_8a7a_02340c700f01level1_row2\" class=\"row_heading level1 row2\" >Nirvana</th>\n",
       "                        <td id=\"T_e03b6fcf_4024_11eb_8a7a_02340c700f01row2_col0\" class=\"data row2 col0\" >9</td>\n",
       "                        <td id=\"T_e03b6fcf_4024_11eb_8a7a_02340c700f01row2_col1\" class=\"data row2 col1\" >$4.90</td>\n",
       "                        <td id=\"T_e03b6fcf_4024_11eb_8a7a_02340c700f01row2_col2\" class=\"data row2 col2\" >$44.10</td>\n",
       "            </tr>\n",
       "            <tr>\n",
       "                        <th id=\"T_e03b6fcf_4024_11eb_8a7a_02340c700f01level0_row3\" class=\"row_heading level0 row3\" >145</th>\n",
       "                        <th id=\"T_e03b6fcf_4024_11eb_8a7a_02340c700f01level1_row3\" class=\"row_heading level1 row3\" >Fiery Glass Crusader</th>\n",
       "                        <td id=\"T_e03b6fcf_4024_11eb_8a7a_02340c700f01row3_col0\" class=\"data row3 col0\" >9</td>\n",
       "                        <td id=\"T_e03b6fcf_4024_11eb_8a7a_02340c700f01row3_col1\" class=\"data row3 col1\" >$4.58</td>\n",
       "                        <td id=\"T_e03b6fcf_4024_11eb_8a7a_02340c700f01row3_col2\" class=\"data row3 col2\" >$41.22</td>\n",
       "            </tr>\n",
       "            <tr>\n",
       "                        <th id=\"T_e03b6fcf_4024_11eb_8a7a_02340c700f01level0_row4\" class=\"row_heading level0 row4\" >103</th>\n",
       "                        <th id=\"T_e03b6fcf_4024_11eb_8a7a_02340c700f01level1_row4\" class=\"row_heading level1 row4\" >Singed Scalpel</th>\n",
       "                        <td id=\"T_e03b6fcf_4024_11eb_8a7a_02340c700f01row4_col0\" class=\"data row4 col0\" >8</td>\n",
       "                        <td id=\"T_e03b6fcf_4024_11eb_8a7a_02340c700f01row4_col1\" class=\"data row4 col1\" >$4.35</td>\n",
       "                        <td id=\"T_e03b6fcf_4024_11eb_8a7a_02340c700f01row4_col2\" class=\"data row4 col2\" >$34.80</td>\n",
       "            </tr>\n",
       "    </tbody></table>"
      ],
      "text/plain": [
       "<pandas.io.formats.style.Styler at 0x1d9dc34b490>"
      ]
     },
     "execution_count": 9,
     "metadata": {},
     "output_type": "execute_result"
    }
   ],
   "source": [
    "# retrieve the coumns needed\n",
    "items = purchase_data[[\"Item ID\", \"Item Name\", \"Price\"]]\n",
    "\n",
    "# Calculate for item data\n",
    "items_grouped = items.groupby([\"Item ID\",\"Item Name\"])\n",
    "items_count = items_grouped[\"Price\"].count()\n",
    "totalpurchase_value = (items_grouped[\"Price\"].sum()) \n",
    "items_price = totalpurchase_value / items_count\n",
    "\n",
    "# create new summary data frame with results\n",
    "popularitems_summary = pd.DataFrame({\"Purchase Count\": items_count, \n",
    "                                    \"Item Price\": items_price,\n",
    "                                    \"Total Purchase Value\": totalpurchase_value\n",
    "                            })\n",
    "\n",
    "popularitems_summary = popularitems_summary.sort_values([\"Total Purchase Value\"], ascending=False).head()\n",
    "\n",
    "popularitems_summary.style.format({\"Item Price\":\"${:,.2f}\",\n",
    "                                    \"Total Purchase Value\":\"${:,.2f}\"\n",
    "                                })"
   ]
  },
  {
   "cell_type": "markdown",
   "metadata": {},
   "source": [
    "## Most Profitable Items"
   ]
  },
  {
   "cell_type": "markdown",
   "metadata": {},
   "source": [
    "* Sort the above table by total purchase value in descending order\n",
    "\n",
    "\n",
    "* Optional: give the displayed data cleaner formatting\n",
    "\n",
    "\n",
    "* Display a preview of the data frame\n",
    "\n"
   ]
  },
  {
   "cell_type": "code",
   "execution_count": 10,
   "metadata": {
    "scrolled": true
   },
   "outputs": [
    {
     "data": {
      "text/html": [
       "<style  type=\"text/css\" >\n",
       "</style><table id=\"T_e0b226e1_4024_11eb_81a1_02340c700f01\" ><thead>    <tr>        <th class=\"blank\" ></th>        <th class=\"blank level0\" ></th>        <th class=\"col_heading level0 col0\" >Purchase Count</th>        <th class=\"col_heading level0 col1\" >Item Price</th>        <th class=\"col_heading level0 col2\" >Total Purchase Value</th>    </tr>    <tr>        <th class=\"index_name level0\" >Item ID</th>        <th class=\"index_name level1\" >Item Name</th>        <th class=\"blank\" ></th>        <th class=\"blank\" ></th>        <th class=\"blank\" ></th>    </tr></thead><tbody>\n",
       "                <tr>\n",
       "                        <th id=\"T_e0b226e1_4024_11eb_81a1_02340c700f01level0_row0\" class=\"row_heading level0 row0\" >92</th>\n",
       "                        <th id=\"T_e0b226e1_4024_11eb_81a1_02340c700f01level1_row0\" class=\"row_heading level1 row0\" >Final Critic</th>\n",
       "                        <td id=\"T_e0b226e1_4024_11eb_81a1_02340c700f01row0_col0\" class=\"data row0 col0\" >13</td>\n",
       "                        <td id=\"T_e0b226e1_4024_11eb_81a1_02340c700f01row0_col1\" class=\"data row0 col1\" >$4.61</td>\n",
       "                        <td id=\"T_e0b226e1_4024_11eb_81a1_02340c700f01row0_col2\" class=\"data row0 col2\" >$59.99</td>\n",
       "            </tr>\n",
       "            <tr>\n",
       "                        <th id=\"T_e0b226e1_4024_11eb_81a1_02340c700f01level0_row1\" class=\"row_heading level0 row1\" >178</th>\n",
       "                        <th id=\"T_e0b226e1_4024_11eb_81a1_02340c700f01level1_row1\" class=\"row_heading level1 row1\" >Oathbreaker, Last Hope of the Breaking Storm</th>\n",
       "                        <td id=\"T_e0b226e1_4024_11eb_81a1_02340c700f01row1_col0\" class=\"data row1 col0\" >12</td>\n",
       "                        <td id=\"T_e0b226e1_4024_11eb_81a1_02340c700f01row1_col1\" class=\"data row1 col1\" >$4.23</td>\n",
       "                        <td id=\"T_e0b226e1_4024_11eb_81a1_02340c700f01row1_col2\" class=\"data row1 col2\" >$50.76</td>\n",
       "            </tr>\n",
       "            <tr>\n",
       "                        <th id=\"T_e0b226e1_4024_11eb_81a1_02340c700f01level0_row2\" class=\"row_heading level0 row2\" >82</th>\n",
       "                        <th id=\"T_e0b226e1_4024_11eb_81a1_02340c700f01level1_row2\" class=\"row_heading level1 row2\" >Nirvana</th>\n",
       "                        <td id=\"T_e0b226e1_4024_11eb_81a1_02340c700f01row2_col0\" class=\"data row2 col0\" >9</td>\n",
       "                        <td id=\"T_e0b226e1_4024_11eb_81a1_02340c700f01row2_col1\" class=\"data row2 col1\" >$4.90</td>\n",
       "                        <td id=\"T_e0b226e1_4024_11eb_81a1_02340c700f01row2_col2\" class=\"data row2 col2\" >$44.10</td>\n",
       "            </tr>\n",
       "            <tr>\n",
       "                        <th id=\"T_e0b226e1_4024_11eb_81a1_02340c700f01level0_row3\" class=\"row_heading level0 row3\" >145</th>\n",
       "                        <th id=\"T_e0b226e1_4024_11eb_81a1_02340c700f01level1_row3\" class=\"row_heading level1 row3\" >Fiery Glass Crusader</th>\n",
       "                        <td id=\"T_e0b226e1_4024_11eb_81a1_02340c700f01row3_col0\" class=\"data row3 col0\" >9</td>\n",
       "                        <td id=\"T_e0b226e1_4024_11eb_81a1_02340c700f01row3_col1\" class=\"data row3 col1\" >$4.58</td>\n",
       "                        <td id=\"T_e0b226e1_4024_11eb_81a1_02340c700f01row3_col2\" class=\"data row3 col2\" >$41.22</td>\n",
       "            </tr>\n",
       "            <tr>\n",
       "                        <th id=\"T_e0b226e1_4024_11eb_81a1_02340c700f01level0_row4\" class=\"row_heading level0 row4\" >103</th>\n",
       "                        <th id=\"T_e0b226e1_4024_11eb_81a1_02340c700f01level1_row4\" class=\"row_heading level1 row4\" >Singed Scalpel</th>\n",
       "                        <td id=\"T_e0b226e1_4024_11eb_81a1_02340c700f01row4_col0\" class=\"data row4 col0\" >8</td>\n",
       "                        <td id=\"T_e0b226e1_4024_11eb_81a1_02340c700f01row4_col1\" class=\"data row4 col1\" >$4.35</td>\n",
       "                        <td id=\"T_e0b226e1_4024_11eb_81a1_02340c700f01row4_col2\" class=\"data row4 col2\" >$34.80</td>\n",
       "            </tr>\n",
       "    </tbody></table>"
      ],
      "text/plain": [
       "<pandas.io.formats.style.Styler at 0x1d9dc2e2fa0>"
      ]
     },
     "execution_count": 10,
     "metadata": {},
     "output_type": "execute_result"
    }
   ],
   "source": [
    "# sort the popular items data frame by descending\n",
    "profitableitems_summary = popularitems_summary.sort_values([\"Total Purchase Value\"], ascending=False).head()\n",
    "\n",
    "# format results data frame\n",
    "profitableitems_summary.style.format({\"Item Price\":\"${:,.2f}\",\n",
    "                                        \"Total Purchase Value\":\"${:,.2f}\"})"
   ]
  },
  {
   "cell_type": "code",
   "execution_count": null,
   "metadata": {},
   "outputs": [],
   "source": []
  },
  {
   "cell_type": "code",
   "execution_count": null,
   "metadata": {},
   "outputs": [],
   "source": []
  },
  {
   "cell_type": "code",
   "execution_count": null,
   "metadata": {},
   "outputs": [],
   "source": []
  }
 ],
 "metadata": {
  "anaconda-cloud": {},
  "kernel_info": {
   "name": "python3"
  },
  "kernelspec": {
   "display_name": "Python [conda env:PythonData] *",
   "language": "python",
   "name": "conda-env-PythonData-py"
  },
  "language_info": {
   "codemirror_mode": {
    "name": "ipython",
    "version": 3
   },
   "file_extension": ".py",
   "mimetype": "text/x-python",
   "name": "python",
   "nbconvert_exporter": "python",
   "pygments_lexer": "ipython3",
   "version": "3.8.5"
  },
  "latex_envs": {
   "LaTeX_envs_menu_present": true,
   "autoclose": false,
   "autocomplete": true,
   "bibliofile": "biblio.bib",
   "cite_by": "apalike",
   "current_citInitial": 1,
   "eqLabelWithNumbers": true,
   "eqNumInitial": 1,
   "hotkeys": {
    "equation": "Ctrl-E",
    "itemize": "Ctrl-I"
   },
   "labels_anchors": false,
   "latex_user_defs": false,
   "report_style_numbering": false,
   "user_envs_cfg": false
  },
  "nteract": {
   "version": "0.2.0"
  }
 },
 "nbformat": 4,
 "nbformat_minor": 2
}
